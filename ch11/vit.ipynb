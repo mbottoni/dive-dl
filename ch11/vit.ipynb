{
 "cells": [
  {
   "cell_type": "code",
   "execution_count": 2,
   "metadata": {},
   "outputs": [],
   "source": [
    "import torch\n",
    "import torch.nn as nn\n",
    "from d2l import torch as d2l\n",
    "\n",
    "class PatchEmbedding(nn.Module):\n",
    "    def __init__(self, img_size=96, patch_size=16, num_hiddens=512):\n",
    "        super().__init__()\n",
    "        def _make_tuple(x):\n",
    "            if not isinstance(x, (list, tuple)):\n",
    "                return (x, x)\n",
    "            return x\n",
    "        img_size, patch_size = _make_tuple(img_size), _make_tuple(patch_size)\n",
    "        self.num_patches = (img_size[0] // patch_size[0]) * (\n",
    "            img_size[1] // patch_size[1])\n",
    "        self.conv = nn.LazyConv2d(num_hiddens, kernel_size=patch_size,\n",
    "                                  stride=patch_size)\n",
    "\n",
    "    def forward(self, X):\n",
    "        # Output shape: (batch size, no. of patches, no. of channels)\n",
    "        return self.conv(X).flatten(2).transpose(1, 2)"
   ]
  },
  {
   "cell_type": "code",
   "execution_count": 3,
   "metadata": {},
   "outputs": [],
   "source": [
    "img_size, patch_size, num_hiddens, batch_size = 96, 16, 512, 4\n",
    "\n",
    "patch_emb = PatchEmbedding(img_size, patch_size, num_hiddens)\n",
    "\n",
    "X = torch.zeros(batch_size, 3, img_size, img_size)\n",
    "\n",
    "d2l.check_shape(patch_emb(X),\n",
    "                (batch_size, (img_size//patch_size)**2, num_hiddens))"
   ]
  },
  {
   "cell_type": "code",
   "execution_count": 4,
   "metadata": {},
   "outputs": [],
   "source": [
    "class ViTMLP(nn.Module):\n",
    "    def __init__(self, mlp_num_hiddens, mlp_num_outputs, dropout=0.5):\n",
    "        super().__init__()\n",
    "        self.dense1 = nn.LazyLinear(mlp_num_hiddens)\n",
    "        self.gelu = nn.GELU()\n",
    "        self.dropout1 = nn.Dropout(dropout)\n",
    "        self.dense2 = nn.LazyLinear(mlp_num_outputs)\n",
    "        self.dropout2 = nn.Dropout(dropout)\n",
    "\n",
    "    def forward(self, x):\n",
    "        return self.dropout2(self.dense2(self.dropout1(self.gelu(\n",
    "            self.dense1(x)))))"
   ]
  },
  {
   "cell_type": "code",
   "execution_count": 6,
   "metadata": {},
   "outputs": [],
   "source": [
    "class ViTBlock(nn.Module):\n",
    "    def __init__(self, num_hiddens, norm_shape, mlp_num_hiddens,\n",
    "                 num_heads, dropout, use_bias=False):\n",
    "        super().__init__()\n",
    "        self.ln1 = nn.LayerNorm(norm_shape)\n",
    "        self.attention = d2l.MultiHeadAttention(num_hiddens, num_heads,\n",
    "                                                dropout, use_bias)\n",
    "        self.ln2 = nn.LayerNorm(norm_shape)\n",
    "        self.mlp = ViTMLP(mlp_num_hiddens, num_hiddens, dropout)\n",
    "\n",
    "    def forward(self, X, valid_lens=None):\n",
    "        X = X + self.attention(*([self.ln1(X)] * 3), valid_lens)\n",
    "        return X + self.mlp(self.ln2(X))"
   ]
  },
  {
   "cell_type": "code",
   "execution_count": 7,
   "metadata": {},
   "outputs": [],
   "source": [
    "class ViT(d2l.Classifier):\n",
    "    \"\"\"Vision Transformer.\"\"\"\n",
    "    def __init__(self, img_size, patch_size, num_hiddens, mlp_num_hiddens,\n",
    "                 num_heads, num_blks, emb_dropout, blk_dropout, lr=0.1,\n",
    "                 use_bias=False, num_classes=10):\n",
    "        super().__init__()\n",
    "        self.save_hyperparameters()\n",
    "        self.patch_embedding = PatchEmbedding(\n",
    "            img_size, patch_size, num_hiddens)\n",
    "        self.cls_token = nn.Parameter(torch.zeros(1, 1, num_hiddens))\n",
    "        num_steps = self.patch_embedding.num_patches + 1  # Add the cls token\n",
    "        # Positional embeddings are learnable\n",
    "        self.pos_embedding = nn.Parameter(\n",
    "            torch.randn(1, num_steps, num_hiddens))\n",
    "        self.dropout = nn.Dropout(emb_dropout)\n",
    "        self.blks = nn.Sequential()\n",
    "        for i in range(num_blks):\n",
    "            self.blks.add_module(f\"{i}\", ViTBlock(\n",
    "                num_hiddens, num_hiddens, mlp_num_hiddens,\n",
    "                num_heads, blk_dropout, use_bias))\n",
    "        self.head = nn.Sequential(nn.LayerNorm(num_hiddens),\n",
    "                                  nn.Linear(num_hiddens, num_classes))\n",
    "\n",
    "    def forward(self, X):\n",
    "        X = self.patch_embedding(X)\n",
    "        X = torch.cat((self.cls_token.expand(X.shape[0], -1, -1), X), 1)\n",
    "        X = self.dropout(X + self.pos_embedding)\n",
    "        for blk in self.blks:\n",
    "            X = blk(X)\n",
    "        return self.head(X[:, 0])"
   ]
  },
  {
   "cell_type": "code",
   "execution_count": 8,
   "metadata": {},
   "outputs": [],
   "source": [
    "img_size, patch_size = 96, 16\n",
    "\n",
    "num_hiddens, mlp_num_hiddens, num_heads, num_blks = 512, 2048, 8, 2\n",
    "\n",
    "emb_dropout, blk_dropout, lr = 0.1, 0.1, 0.1\n",
    "\n",
    "model = ViT(img_size, patch_size, num_hiddens, mlp_num_hiddens, num_heads,\n",
    "            num_blks, emb_dropout, blk_dropout, lr)\n",
    "\n",
    "trainer = d2l.Trainer(max_epochs=10, num_gpus=1)\n",
    "\n",
    "data = d2l.FashionMNIST(batch_size=128, resize=(img_size, img_size))\n",
    "\n",
    "trainer.fit(model, data)"
   ]
  },
  {
   "cell_type": "code",
   "execution_count": null,
   "metadata": {},
   "outputs": [],
   "source": []
  },
  {
   "cell_type": "code",
   "execution_count": null,
   "metadata": {},
   "outputs": [],
   "source": []
  },
  {
   "cell_type": "code",
   "execution_count": null,
   "metadata": {},
   "outputs": [],
   "source": []
  },
  {
   "cell_type": "code",
   "execution_count": null,
   "metadata": {},
   "outputs": [],
   "source": []
  }
 ],
 "metadata": {
  "kernelspec": {
   "display_name": "study",
   "language": "python",
   "name": "python3"
  },
  "language_info": {
   "codemirror_mode": {
    "name": "ipython",
    "version": 3
   },
   "file_extension": ".py",
   "mimetype": "text/x-python",
   "name": "python",
   "nbconvert_exporter": "python",
   "pygments_lexer": "ipython3",
   "version": "3.9.19"
  }
 },
 "nbformat": 4,
 "nbformat_minor": 2
}
